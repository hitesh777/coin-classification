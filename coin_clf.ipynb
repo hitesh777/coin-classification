{
  "nbformat": 4,
  "nbformat_minor": 0,
  "metadata": {
    "kernelspec": {
      "display_name": "Python 3",
      "language": "python",
      "name": "python3"
    },
    "language_info": {
      "codemirror_mode": {
        "name": "ipython",
        "version": 3
      },
      "file_extension": ".py",
      "mimetype": "text/x-python",
      "name": "python",
      "nbconvert_exporter": "python",
      "pygments_lexer": "ipython3",
      "version": "3.6.6"
    },
    "colab": {
      "name": "coin_clf.ipynb",
      "provenance": [],
      "include_colab_link": true
    },
    "accelerator": "GPU",
    "widgets": {
      "application/vnd.jupyter.widget-state+json": {
        "c62599c5538547289f05766ce3424c5d": {
          "model_module": "@jupyter-widgets/controls",
          "model_name": "HBoxModel",
          "state": {
            "_view_name": "HBoxView",
            "_dom_classes": [],
            "_model_name": "HBoxModel",
            "_view_module": "@jupyter-widgets/controls",
            "_model_module_version": "1.5.0",
            "_view_count": null,
            "_view_module_version": "1.5.0",
            "box_style": "",
            "layout": "IPY_MODEL_b6e35a6f278b4657aae6d523e2f85a60",
            "_model_module": "@jupyter-widgets/controls",
            "children": [
              "IPY_MODEL_e8c37b7986c349a2999b2ad17853d491",
              "IPY_MODEL_f943240ce37741948ef9c545e1c64566"
            ]
          }
        },
        "b6e35a6f278b4657aae6d523e2f85a60": {
          "model_module": "@jupyter-widgets/base",
          "model_name": "LayoutModel",
          "state": {
            "_view_name": "LayoutView",
            "grid_template_rows": null,
            "right": null,
            "justify_content": null,
            "_view_module": "@jupyter-widgets/base",
            "overflow": null,
            "_model_module_version": "1.2.0",
            "_view_count": null,
            "flex_flow": null,
            "width": null,
            "min_width": null,
            "border": null,
            "align_items": null,
            "bottom": null,
            "_model_module": "@jupyter-widgets/base",
            "top": null,
            "grid_column": null,
            "overflow_y": null,
            "overflow_x": null,
            "grid_auto_flow": null,
            "grid_area": null,
            "grid_template_columns": null,
            "flex": null,
            "_model_name": "LayoutModel",
            "justify_items": null,
            "grid_row": null,
            "max_height": null,
            "align_content": null,
            "visibility": null,
            "align_self": null,
            "height": null,
            "min_height": null,
            "padding": null,
            "grid_auto_rows": null,
            "grid_gap": null,
            "max_width": null,
            "order": null,
            "_view_module_version": "1.2.0",
            "grid_template_areas": null,
            "object_position": null,
            "object_fit": null,
            "grid_auto_columns": null,
            "margin": null,
            "display": null,
            "left": null
          }
        },
        "e8c37b7986c349a2999b2ad17853d491": {
          "model_module": "@jupyter-widgets/controls",
          "model_name": "FloatProgressModel",
          "state": {
            "_view_name": "ProgressView",
            "style": "IPY_MODEL_6423386f80ae4677949bd876dfc06031",
            "_dom_classes": [],
            "description": "100%",
            "_model_name": "FloatProgressModel",
            "bar_style": "success",
            "max": 3056,
            "_view_module": "@jupyter-widgets/controls",
            "_model_module_version": "1.5.0",
            "value": 3056,
            "_view_count": null,
            "_view_module_version": "1.5.0",
            "orientation": "horizontal",
            "min": 0,
            "description_tooltip": null,
            "_model_module": "@jupyter-widgets/controls",
            "layout": "IPY_MODEL_7088397df4ec4f8c92d9e413e75ddc67"
          }
        },
        "f943240ce37741948ef9c545e1c64566": {
          "model_module": "@jupyter-widgets/controls",
          "model_name": "HTMLModel",
          "state": {
            "_view_name": "HTMLView",
            "style": "IPY_MODEL_4c5beb738de44fdeab894404e1d94582",
            "_dom_classes": [],
            "description": "",
            "_model_name": "HTMLModel",
            "placeholder": "​",
            "_view_module": "@jupyter-widgets/controls",
            "_model_module_version": "1.5.0",
            "value": " 3056/3056 [16:17&lt;00:00,  3.13it/s]",
            "_view_count": null,
            "_view_module_version": "1.5.0",
            "description_tooltip": null,
            "_model_module": "@jupyter-widgets/controls",
            "layout": "IPY_MODEL_d1da16cbf6ee431589a7a89a56fb2f27"
          }
        },
        "6423386f80ae4677949bd876dfc06031": {
          "model_module": "@jupyter-widgets/controls",
          "model_name": "ProgressStyleModel",
          "state": {
            "_view_name": "StyleView",
            "_model_name": "ProgressStyleModel",
            "description_width": "initial",
            "_view_module": "@jupyter-widgets/base",
            "_model_module_version": "1.5.0",
            "_view_count": null,
            "_view_module_version": "1.2.0",
            "bar_color": null,
            "_model_module": "@jupyter-widgets/controls"
          }
        },
        "7088397df4ec4f8c92d9e413e75ddc67": {
          "model_module": "@jupyter-widgets/base",
          "model_name": "LayoutModel",
          "state": {
            "_view_name": "LayoutView",
            "grid_template_rows": null,
            "right": null,
            "justify_content": null,
            "_view_module": "@jupyter-widgets/base",
            "overflow": null,
            "_model_module_version": "1.2.0",
            "_view_count": null,
            "flex_flow": null,
            "width": null,
            "min_width": null,
            "border": null,
            "align_items": null,
            "bottom": null,
            "_model_module": "@jupyter-widgets/base",
            "top": null,
            "grid_column": null,
            "overflow_y": null,
            "overflow_x": null,
            "grid_auto_flow": null,
            "grid_area": null,
            "grid_template_columns": null,
            "flex": null,
            "_model_name": "LayoutModel",
            "justify_items": null,
            "grid_row": null,
            "max_height": null,
            "align_content": null,
            "visibility": null,
            "align_self": null,
            "height": null,
            "min_height": null,
            "padding": null,
            "grid_auto_rows": null,
            "grid_gap": null,
            "max_width": null,
            "order": null,
            "_view_module_version": "1.2.0",
            "grid_template_areas": null,
            "object_position": null,
            "object_fit": null,
            "grid_auto_columns": null,
            "margin": null,
            "display": null,
            "left": null
          }
        },
        "4c5beb738de44fdeab894404e1d94582": {
          "model_module": "@jupyter-widgets/controls",
          "model_name": "DescriptionStyleModel",
          "state": {
            "_view_name": "StyleView",
            "_model_name": "DescriptionStyleModel",
            "description_width": "",
            "_view_module": "@jupyter-widgets/base",
            "_model_module_version": "1.5.0",
            "_view_count": null,
            "_view_module_version": "1.2.0",
            "_model_module": "@jupyter-widgets/controls"
          }
        },
        "d1da16cbf6ee431589a7a89a56fb2f27": {
          "model_module": "@jupyter-widgets/base",
          "model_name": "LayoutModel",
          "state": {
            "_view_name": "LayoutView",
            "grid_template_rows": null,
            "right": null,
            "justify_content": null,
            "_view_module": "@jupyter-widgets/base",
            "overflow": null,
            "_model_module_version": "1.2.0",
            "_view_count": null,
            "flex_flow": null,
            "width": null,
            "min_width": null,
            "border": null,
            "align_items": null,
            "bottom": null,
            "_model_module": "@jupyter-widgets/base",
            "top": null,
            "grid_column": null,
            "overflow_y": null,
            "overflow_x": null,
            "grid_auto_flow": null,
            "grid_area": null,
            "grid_template_columns": null,
            "flex": null,
            "_model_name": "LayoutModel",
            "justify_items": null,
            "grid_row": null,
            "max_height": null,
            "align_content": null,
            "visibility": null,
            "align_self": null,
            "height": null,
            "min_height": null,
            "padding": null,
            "grid_auto_rows": null,
            "grid_gap": null,
            "max_width": null,
            "order": null,
            "_view_module_version": "1.2.0",
            "grid_template_areas": null,
            "object_position": null,
            "object_fit": null,
            "grid_auto_columns": null,
            "margin": null,
            "display": null,
            "left": null
          }
        }
      }
    }
  },
  "cells": [
    {
      "cell_type": "markdown",
      "metadata": {
        "id": "view-in-github",
        "colab_type": "text"
      },
      "source": [
        "<a href=\"https://colab.research.google.com/github/hitesh777/coin-classification/blob/main/coin_clf.ipynb\" target=\"_parent\"><img src=\"https://colab.research.google.com/assets/colab-badge.svg\" alt=\"Open In Colab\"/></a>"
      ]
    },
    {
      "cell_type": "code",
      "metadata": {
        "colab": {
          "base_uri": "https://localhost:8080/"
        },
        "id": "4_YKoY0tBCcO",
        "outputId": "31428cec-5dc0-4810-ba75-7d93051f9033"
      },
      "source": [
        "from google.colab import drive\n",
        "drive.mount('/content/drive')"
      ],
      "execution_count": 2,
      "outputs": [
        {
          "output_type": "stream",
          "text": [
            "Mounted at /content/drive\n"
          ],
          "name": "stdout"
        }
      ]
    },
    {
      "cell_type": "code",
      "metadata": {
        "_cell_guid": "b1076dfc-b9ad-4769-8c92-a6c4dae69d19",
        "_uuid": "8f2839f25d086af736a60e9eeb907d3b93b6e0e5",
        "trusted": false,
        "id": "-mI_fFVbAbla"
      },
      "source": [
        "import numpy as np\n",
        "import pandas as pd\n",
        "import matplotlib.pyplot as plt\n",
        "from pathlib import Path\n",
        "from PIL import Image\n",
        "from tqdm import tqdm_notebook\n",
        "from sklearn.model_selection import train_test_split\n",
        "\n",
        "%matplotlib inline"
      ],
      "execution_count": 3,
      "outputs": []
    },
    {
      "cell_type": "code",
      "metadata": {
        "id": "JF56jowfHh5T"
      },
      "source": [
        "import shutil\n",
        "shutil.unpack_archive(\"/content/drive/MyDrive/JPEGImages.zip\",\"/content/drive/MyDrive/coin_data\")"
      ],
      "execution_count": 5,
      "outputs": []
    },
    {
      "cell_type": "code",
      "metadata": {
        "trusted": false,
        "id": "o3SQN2YmAble"
      },
      "source": [
        "input_path = Path('/content/drive/MyDrive/coin_data/JPEGImages')\n",
        "im_size = 320"
      ],
      "execution_count": 4,
      "outputs": []
    },
    {
      "cell_type": "code",
      "metadata": {
        "trusted": false,
        "id": "Uu2QgLz8Ablg"
      },
      "source": [
        "image_files = list(input_path.glob('*.jpg'))"
      ],
      "execution_count": 5,
      "outputs": []
    },
    {
      "cell_type": "code",
      "metadata": {
        "trusted": false,
        "id": "gkl-i9EJAblh"
      },
      "source": [
        "def read_file(fname):\n",
        "    # Read image\n",
        "    im = Image.open(fname)\n",
        "\n",
        "    # Resize\n",
        "    im.thumbnail((im_size, im_size))\n",
        "\n",
        "    # Convert to numpy array\n",
        "    im_array = np.asarray(im)\n",
        "\n",
        "    # Get target\n",
        "    target = int(fname.stem.split('_')[0])\n",
        "\n",
        "    return im_array, target"
      ],
      "execution_count": 7,
      "outputs": []
    },
    {
      "cell_type": "code",
      "metadata": {
        "trusted": false,
        "id": "sxtdaiy7Abli",
        "colab": {
          "base_uri": "https://localhost:8080/",
          "height": 137,
          "referenced_widgets": [
            "c62599c5538547289f05766ce3424c5d",
            "b6e35a6f278b4657aae6d523e2f85a60",
            "e8c37b7986c349a2999b2ad17853d491",
            "f943240ce37741948ef9c545e1c64566",
            "6423386f80ae4677949bd876dfc06031",
            "7088397df4ec4f8c92d9e413e75ddc67",
            "4c5beb738de44fdeab894404e1d94582",
            "d1da16cbf6ee431589a7a89a56fb2f27"
          ]
        },
        "outputId": "20ff0f93-725e-4f1e-b96b-17cdf1b541f9"
      },
      "source": [
        "images = []\n",
        "targets = []\n",
        "\n",
        "for image_file in tqdm_notebook(image_files):\n",
        "    image, target = read_file(image_file)\n",
        "    \n",
        "    images.append(image)\n",
        "    targets.append(target)"
      ],
      "execution_count": 8,
      "outputs": [
        {
          "output_type": "stream",
          "text": [
            "/usr/local/lib/python3.7/dist-packages/ipykernel_launcher.py:4: TqdmDeprecationWarning: This function will be removed in tqdm==5.0.0\n",
            "Please use `tqdm.notebook.tqdm` instead of `tqdm.tqdm_notebook`\n",
            "  after removing the cwd from sys.path.\n"
          ],
          "name": "stderr"
        },
        {
          "output_type": "display_data",
          "data": {
            "application/vnd.jupyter.widget-view+json": {
              "model_id": "c62599c5538547289f05766ce3424c5d",
              "version_minor": 0,
              "version_major": 2
            },
            "text/plain": [
              "HBox(children=(FloatProgress(value=0.0, max=3056.0), HTML(value='')))"
            ]
          },
          "metadata": {
            "tags": []
          }
        },
        {
          "output_type": "stream",
          "text": [
            "\n"
          ],
          "name": "stdout"
        }
      ]
    },
    {
      "cell_type": "code",
      "metadata": {
        "trusted": false,
        "id": "X1u8-76bAblk"
      },
      "source": [
        "X = (np.array(images).astype(np.float32) / 127.5) - 1\n",
        "y_cls = np.array(targets)"
      ],
      "execution_count": 9,
      "outputs": []
    },
    {
      "cell_type": "code",
      "metadata": {
        "trusted": false,
        "id": "bLVrpj6qAbll",
        "colab": {
          "base_uri": "https://localhost:8080/"
        },
        "outputId": "1e4ebfa7-7290-4f03-8971-6489d661e320"
      },
      "source": [
        "X.shape, y_cls.shape"
      ],
      "execution_count": 10,
      "outputs": [
        {
          "output_type": "execute_result",
          "data": {
            "text/plain": [
              "((3056, 240, 320, 3), (3056,))"
            ]
          },
          "metadata": {
            "tags": []
          },
          "execution_count": 10
        }
      ]
    },
    {
      "cell_type": "code",
      "metadata": {
        "trusted": false,
        "id": "WJVCyJruAblm",
        "colab": {
          "base_uri": "https://localhost:8080/",
          "height": 281
        },
        "outputId": "393b9fdb-0d67-41b7-dc95-799fd37538a8"
      },
      "source": [
        "i = 555\n",
        "plt.imshow(np.uint8((X[i] + 1) * 127.5))\n",
        "plt.title(str(y_cls[i]));"
      ],
      "execution_count": 11,
      "outputs": [
        {
          "output_type": "display_data",
          "data": {
            "image/png": "[encoded data removed]",
            "text/plain": [
              "<Figure size 432x288 with 1 Axes>"
            ]
          },
          "metadata": {
            "tags": [],
            "needs_background": "light"
          }
        }
      ]
    },
    {
      "cell_type": "code",
      "metadata": {
        "trusted": false,
        "id": "R56neMshAblo"
      },
      "source": [
        "coins_ids = {\n",
        "    5: 0,\n",
        "    10: 1,\n",
        "    25: 2,\n",
        "    50: 3,\n",
        "    100: 4\n",
        "}\n",
        "\n",
        "ids_coins = [5, 10, 25, 50, 100]\n",
        "\n",
        "y = np.array([coins_ids[coin] for coin in y_cls])"
      ],
      "execution_count": 12,
      "outputs": []
    },
    {
      "cell_type": "code",
      "metadata": {
        "trusted": false,
        "id": "Btps7ezAAblq"
      },
      "source": [
        "X_train, X_valid, y_train, y_valid, fname_train, fname_valid = train_test_split(\n",
        "    X, y, image_files, test_size=0.2, random_state=42)"
      ],
      "execution_count": 13,
      "outputs": []
    },
    {
      "cell_type": "code",
      "metadata": {
        "trusted": false,
        "id": "zIX4ItbcAblr",
        "colab": {
          "base_uri": "https://localhost:8080/"
        },
        "outputId": "08abe47e-8a2e-449a-c4cb-17173ec11719"
      },
      "source": [
        "im_width = X.shape[2]\n",
        "im_height = X.shape[1]\n",
        "\n",
        "im_width, im_height"
      ],
      "execution_count": 14,
      "outputs": [
        {
          "output_type": "execute_result",
          "data": {
            "text/plain": [
              "(320, 240)"
            ]
          },
          "metadata": {
            "tags": []
          },
          "execution_count": 14
        }
      ]
    },
    {
      "cell_type": "markdown",
      "metadata": {
        "id": "GZa50ijaAbls"
      },
      "source": [
        "# Keras"
      ]
    },
    {
      "cell_type": "code",
      "metadata": {
        "trusted": false,
        "id": "7Un6Fz0GAblt"
      },
      "source": [
        "from keras.layers import Conv2D, MaxPool2D, Flatten, GlobalAvgPool2D, GlobalMaxPool2D, Dense\n",
        "from keras.models import Sequential\n",
        "from keras.optimizers import Adam,Adamax\n",
        "from keras.callbacks import ReduceLROnPlateau, ModelCheckpoint, EarlyStopping"
      ],
      "execution_count": 52,
      "outputs": []
    },
    {
      "cell_type": "code",
      "metadata": {
        "trusted": false,
        "id": "-vIDLA87Ablu",
        "colab": {
          "base_uri": "https://localhost:8080/"
        },
        "outputId": "6e71af43-4e63-4461-93f0-91c99c953e66"
      },
      "source": [
        "model = Sequential()\n",
        "\n",
        "# CNN network\n",
        "model.add( Conv2D(16, 3, activation='relu', padding='same', input_shape=(im_height, im_width, 3)) )\n",
        "model.add( MaxPool2D(2) )\n",
        "\n",
        "model.add( Conv2D(32, 3, activation='relu', padding='same') )\n",
        "model.add( MaxPool2D(2) )\n",
        "\n",
        "model.add( Conv2D(64, 3, activation='relu', padding='same') )\n",
        "model.add( MaxPool2D(2) )\n",
        "\n",
        "model.add( Conv2D(128, 3, activation='relu', padding='same') )\n",
        "model.add( MaxPool2D(2) )\n",
        "\n",
        "model.add( Conv2D(256, 3, activation='relu', padding='same') )\n",
        "model.add( Conv2D(256, 3, activation='relu', padding='same') )\n",
        "model.add( Conv2D(256, 3, activation='relu', padding='same') )\n",
        "model.add( MaxPool2D(2) )\n",
        "model.add( Conv2D(256, 3, activation='relu', padding='same') )\n",
        "\n",
        "\n",
        "# Transition between CNN and MLP\n",
        "model.add( GlobalAvgPool2D() )\n",
        "\n",
        "# MLP network\n",
        "model.add( Dense(256, activation='relu') )\n",
        "\n",
        "model.add( Dense(5, activation='softmax') )\n",
        "\n",
        "model.summary()"
      ],
      "execution_count": 53,
      "outputs": [
        {
          "output_type": "stream",
          "text": [
            "Model: \"sequential_1\"\n",
            "_________________________________________________________________\n",
            "Layer (type)                 Output Shape              Param #   \n",
            "=================================================================\n",
            "conv2d_5 (Conv2D)            (None, 240, 320, 16)      448       \n",
            "_________________________________________________________________\n",
            "max_pooling2d_4 (MaxPooling2 (None, 120, 160, 16)      0         \n",
            "_________________________________________________________________\n",
            "conv2d_6 (Conv2D)            (None, 120, 160, 32)      4640      \n",
            "_________________________________________________________________\n",
            "max_pooling2d_5 (MaxPooling2 (None, 60, 80, 32)        0         \n",
            "_________________________________________________________________\n",
            "conv2d_7 (Conv2D)            (None, 60, 80, 64)        18496     \n",
            "_________________________________________________________________\n",
            "max_pooling2d_6 (MaxPooling2 (None, 30, 40, 64)        0         \n",
            "_________________________________________________________________\n",
            "conv2d_8 (Conv2D)            (None, 30, 40, 128)       73856     \n",
            "_________________________________________________________________\n",
            "max_pooling2d_7 (MaxPooling2 (None, 15, 20, 128)       0         \n",
            "_________________________________________________________________\n",
            "conv2d_9 (Conv2D)            (None, 15, 20, 256)       295168    \n",
            "_________________________________________________________________\n",
            "conv2d_10 (Conv2D)           (None, 15, 20, 256)       590080    \n",
            "_________________________________________________________________\n",
            "conv2d_11 (Conv2D)           (None, 15, 20, 256)       590080    \n",
            "_________________________________________________________________\n",
            "max_pooling2d_8 (MaxPooling2 (None, 7, 10, 256)        0         \n",
            "_________________________________________________________________\n",
            "conv2d_12 (Conv2D)           (None, 7, 10, 256)        590080    \n",
            "_________________________________________________________________\n",
            "global_average_pooling2d_1 ( (None, 256)               0         \n",
            "_________________________________________________________________\n",
            "dense_2 (Dense)              (None, 256)               65792     \n",
            "_________________________________________________________________\n",
            "dense_3 (Dense)              (None, 5)                 1285      \n",
            "=================================================================\n",
            "Total params: 2,229,925\n",
            "Trainable params: 2,229,925\n",
            "Non-trainable params: 0\n",
            "_________________________________________________________________\n"
          ],
          "name": "stdout"
        }
      ]
    },
    {
      "cell_type": "code",
      "metadata": {
        "trusted": false,
        "id": "CE-Vl1FzAblv"
      },
      "source": [
        "optim = Adamax(learning_rate=1e-3)\n",
        "model.compile(optim, 'sparse_categorical_crossentropy', metrics=['acc'])"
      ],
      "execution_count": 55,
      "outputs": []
    },
    {
      "cell_type": "code",
      "metadata": {
        "trusted": false,
        "id": "HZrJmAanAblw",
        "colab": {
          "base_uri": "https://localhost:8080/"
        },
        "outputId": "0403f2f5-66f7-42ed-85f2-dc73763bbb19"
      },
      "source": [
        "callbacks = [\n",
        "    ReduceLROnPlateau(patience=5, factor=0.1, verbose=True),\n",
        "    ModelCheckpoint('best.model', save_best_only=True),\n",
        "    EarlyStopping(patience=12)\n",
        "]\n",
        "\n",
        "history = model.fit(X_train, y_train, epochs=2000, validation_data=(X_valid, y_valid), batch_size=32,\n",
        "                   callbacks=callbacks)"
      ],
      "execution_count": 56,
      "outputs": [
        {
          "output_type": "stream",
          "text": [
            "Epoch 1/2000\n",
            "77/77 [==============================] - 7s 75ms/step - loss: 1.6148 - acc: 0.2150 - val_loss: 1.6079 - val_acc: 0.1797\n",
            "INFO:tensorflow:Assets written to: best.model/assets\n",
            "Epoch 2/2000\n",
            "77/77 [==============================] - 5s 69ms/step - loss: 1.5795 - acc: 0.2329 - val_loss: 1.2718 - val_acc: 0.4641\n",
            "INFO:tensorflow:Assets written to: best.model/assets\n",
            "Epoch 3/2000\n",
            "77/77 [==============================] - 5s 68ms/step - loss: 1.1644 - acc: 0.5029 - val_loss: 0.9156 - val_acc: 0.5539\n",
            "INFO:tensorflow:Assets written to: best.model/assets\n",
            "Epoch 4/2000\n",
            "77/77 [==============================] - 5s 68ms/step - loss: 0.8569 - acc: 0.6477 - val_loss: 0.7676 - val_acc: 0.7337\n",
            "INFO:tensorflow:Assets written to: best.model/assets\n",
            "Epoch 5/2000\n",
            "77/77 [==============================] - 5s 68ms/step - loss: 0.6421 - acc: 0.7366 - val_loss: 0.6348 - val_acc: 0.7582\n",
            "INFO:tensorflow:Assets written to: best.model/assets\n",
            "Epoch 6/2000\n",
            "77/77 [==============================] - 5s 66ms/step - loss: 0.4824 - acc: 0.8289 - val_loss: 0.5756 - val_acc: 0.7647\n",
            "INFO:tensorflow:Assets written to: best.model/assets\n",
            "Epoch 7/2000\n",
            "77/77 [==============================] - 5s 67ms/step - loss: 0.4332 - acc: 0.8381 - val_loss: 0.2606 - val_acc: 0.9265\n",
            "INFO:tensorflow:Assets written to: best.model/assets\n",
            "Epoch 8/2000\n",
            "77/77 [==============================] - 5s 69ms/step - loss: 0.2950 - acc: 0.9101 - val_loss: 0.2151 - val_acc: 0.9346\n",
            "INFO:tensorflow:Assets written to: best.model/assets\n",
            "Epoch 9/2000\n",
            "77/77 [==============================] - 5s 67ms/step - loss: 0.2872 - acc: 0.8846 - val_loss: 0.1717 - val_acc: 0.9493\n",
            "INFO:tensorflow:Assets written to: best.model/assets\n",
            "Epoch 10/2000\n",
            "77/77 [==============================] - 5s 66ms/step - loss: 0.1403 - acc: 0.9589 - val_loss: 0.1315 - val_acc: 0.9510\n",
            "INFO:tensorflow:Assets written to: best.model/assets\n",
            "Epoch 11/2000\n",
            "77/77 [==============================] - 5s 67ms/step - loss: 0.1038 - acc: 0.9630 - val_loss: 0.1435 - val_acc: 0.9542\n",
            "Epoch 12/2000\n",
            "77/77 [==============================] - 5s 67ms/step - loss: 0.1311 - acc: 0.9506 - val_loss: 0.1659 - val_acc: 0.9526\n",
            "Epoch 13/2000\n",
            "77/77 [==============================] - 5s 67ms/step - loss: 0.0795 - acc: 0.9807 - val_loss: 0.1552 - val_acc: 0.9739\n",
            "Epoch 14/2000\n",
            "77/77 [==============================] - 5s 66ms/step - loss: 0.0861 - acc: 0.9784 - val_loss: 0.1151 - val_acc: 0.9690\n",
            "INFO:tensorflow:Assets written to: best.model/assets\n",
            "Epoch 15/2000\n",
            "77/77 [==============================] - 5s 68ms/step - loss: 0.1011 - acc: 0.9683 - val_loss: 0.1544 - val_acc: 0.9526\n",
            "Epoch 16/2000\n",
            "77/77 [==============================] - 5s 66ms/step - loss: 0.1123 - acc: 0.9621 - val_loss: 0.0930 - val_acc: 0.9755\n",
            "INFO:tensorflow:Assets written to: best.model/assets\n",
            "Epoch 17/2000\n",
            "77/77 [==============================] - 5s 67ms/step - loss: 0.0388 - acc: 0.9878 - val_loss: 0.0865 - val_acc: 0.9788\n",
            "INFO:tensorflow:Assets written to: best.model/assets\n",
            "Epoch 18/2000\n",
            "77/77 [==============================] - 5s 67ms/step - loss: 0.0301 - acc: 0.9925 - val_loss: 0.1325 - val_acc: 0.9657\n",
            "Epoch 19/2000\n",
            "77/77 [==============================] - 5s 67ms/step - loss: 0.0406 - acc: 0.9908 - val_loss: 0.0781 - val_acc: 0.9820\n",
            "INFO:tensorflow:Assets written to: best.model/assets\n",
            "Epoch 20/2000\n",
            "77/77 [==============================] - 5s 67ms/step - loss: 0.0286 - acc: 0.9903 - val_loss: 0.0813 - val_acc: 0.9788\n",
            "Epoch 21/2000\n",
            "77/77 [==============================] - 5s 66ms/step - loss: 0.0374 - acc: 0.9872 - val_loss: 0.1778 - val_acc: 0.9461\n",
            "Epoch 22/2000\n",
            "77/77 [==============================] - 5s 66ms/step - loss: 0.0378 - acc: 0.9919 - val_loss: 0.0882 - val_acc: 0.9788\n",
            "Epoch 23/2000\n",
            "77/77 [==============================] - 5s 66ms/step - loss: 0.0167 - acc: 0.9948 - val_loss: 0.1151 - val_acc: 0.9542\n",
            "Epoch 24/2000\n",
            "77/77 [==============================] - 5s 67ms/step - loss: 0.1273 - acc: 0.9522 - val_loss: 0.0786 - val_acc: 0.9739\n",
            "\n",
            "Epoch 00024: ReduceLROnPlateau reducing learning rate to 0.00010000000474974513.\n",
            "Epoch 25/2000\n",
            "77/77 [==============================] - 5s 67ms/step - loss: 0.0173 - acc: 0.9985 - val_loss: 0.0711 - val_acc: 0.9804\n",
            "INFO:tensorflow:Assets written to: best.model/assets\n",
            "Epoch 26/2000\n",
            "77/77 [==============================] - 5s 67ms/step - loss: 0.0151 - acc: 0.9982 - val_loss: 0.0699 - val_acc: 0.9820\n",
            "INFO:tensorflow:Assets written to: best.model/assets\n",
            "Epoch 27/2000\n",
            "77/77 [==============================] - 5s 66ms/step - loss: 0.0123 - acc: 0.9992 - val_loss: 0.0698 - val_acc: 0.9820\n",
            "INFO:tensorflow:Assets written to: best.model/assets\n",
            "Epoch 28/2000\n",
            "77/77 [==============================] - 5s 67ms/step - loss: 0.0149 - acc: 0.9976 - val_loss: 0.0703 - val_acc: 0.9804\n",
            "Epoch 29/2000\n",
            "77/77 [==============================] - 5s 67ms/step - loss: 0.0190 - acc: 0.9974 - val_loss: 0.0703 - val_acc: 0.9820\n",
            "Epoch 30/2000\n",
            "77/77 [==============================] - 5s 66ms/step - loss: 0.0141 - acc: 0.9973 - val_loss: 0.0708 - val_acc: 0.9804\n",
            "Epoch 31/2000\n",
            "77/77 [==============================] - 5s 67ms/step - loss: 0.0099 - acc: 0.9978 - val_loss: 0.0713 - val_acc: 0.9804\n",
            "\n",
            "Epoch 00031: ReduceLROnPlateau reducing learning rate to 1.0000000474974514e-05.\n",
            "Epoch 32/2000\n",
            "77/77 [==============================] - 5s 66ms/step - loss: 0.0084 - acc: 0.9996 - val_loss: 0.0710 - val_acc: 0.9804\n",
            "Epoch 33/2000\n",
            "77/77 [==============================] - 5s 67ms/step - loss: 0.0157 - acc: 0.9972 - val_loss: 0.0708 - val_acc: 0.9804\n",
            "Epoch 34/2000\n",
            "77/77 [==============================] - 5s 66ms/step - loss: 0.0113 - acc: 0.9978 - val_loss: 0.0707 - val_acc: 0.9804\n",
            "Epoch 35/2000\n",
            "77/77 [==============================] - 5s 66ms/step - loss: 0.0100 - acc: 0.9989 - val_loss: 0.0706 - val_acc: 0.9804\n",
            "Epoch 36/2000\n",
            "77/77 [==============================] - 5s 66ms/step - loss: 0.0073 - acc: 0.9995 - val_loss: 0.0706 - val_acc: 0.9804\n",
            "\n",
            "Epoch 00036: ReduceLROnPlateau reducing learning rate to 1.0000000656873453e-06.\n",
            "Epoch 37/2000\n",
            "77/77 [==============================] - 5s 67ms/step - loss: 0.0139 - acc: 0.9987 - val_loss: 0.0706 - val_acc: 0.9804\n",
            "Epoch 38/2000\n",
            "77/77 [==============================] - 5s 67ms/step - loss: 0.0083 - acc: 0.9994 - val_loss: 0.0705 - val_acc: 0.9804\n",
            "Epoch 39/2000\n",
            "77/77 [==============================] - 5s 67ms/step - loss: 0.0098 - acc: 0.9982 - val_loss: 0.0705 - val_acc: 0.9804\n"
          ],
          "name": "stdout"
        }
      ]
    },
    {
      "cell_type": "code",
      "metadata": {
        "trusted": false,
        "id": "DeMYT0cZAblx",
        "colab": {
          "base_uri": "https://localhost:8080/",
          "height": 1000
        },
        "outputId": "97b45cd6-f0f7-40b6-af3a-9678ce1827e8"
      },
      "source": [
        "df_history = pd.DataFrame(history.history)\n",
        "df_history"
      ],
      "execution_count": 57,
      "outputs": [
        {
          "output_type": "execute_result",
          "data": {
            "text/html": [
              "<div>\n",
              "<style scoped>\n",
              "    .dataframe tbody tr th:only-of-type {\n",
              "        vertical-align: middle;\n",
              "    }\n",
              "\n",
              "    .dataframe tbody tr th {\n",
              "        vertical-align: top;\n",
              "    }\n",
              "\n",
              "    .dataframe thead th {\n",
              "        text-align: right;\n",
              "    }\n",
              "</style>\n",
              "<table border=\"1\" class=\"dataframe\">\n",
              "  <thead>\n",
              "    <tr style=\"text-align: right;\">\n",
              "      <th></th>\n",
              "      <th>loss</th>\n",
              "      <th>acc</th>\n",
              "      <th>val_loss</th>\n",
              "      <th>val_acc</th>\n",
              "      <th>lr</th>\n",
              "    </tr>\n",
              "  </thead>\n",
              "  <tbody>\n",
              "    <tr>\n",
              "      <th>0</th>\n",
              "      <td>1.610014</td>\n",
              "      <td>0.204583</td>\n",
              "      <td>1.607874</td>\n",
              "      <td>0.179739</td>\n",
              "      <td>0.001000</td>\n",
              "    </tr>\n",
              "    <tr>\n",
              "      <th>1</th>\n",
              "      <td>1.539356</td>\n",
              "      <td>0.283142</td>\n",
              "      <td>1.271776</td>\n",
              "      <td>0.464052</td>\n",
              "      <td>0.001000</td>\n",
              "    </tr>\n",
              "    <tr>\n",
              "      <th>2</th>\n",
              "      <td>1.076908</td>\n",
              "      <td>0.553191</td>\n",
              "      <td>0.915580</td>\n",
              "      <td>0.553922</td>\n",
              "      <td>0.001000</td>\n",
              "    </tr>\n",
              "    <tr>\n",
              "      <th>3</th>\n",
              "      <td>0.802899</td>\n",
              "      <td>0.662439</td>\n",
              "      <td>0.767646</td>\n",
              "      <td>0.733660</td>\n",
              "      <td>0.001000</td>\n",
              "    </tr>\n",
              "    <tr>\n",
              "      <th>4</th>\n",
              "      <td>0.629008</td>\n",
              "      <td>0.759002</td>\n",
              "      <td>0.634780</td>\n",
              "      <td>0.758170</td>\n",
              "      <td>0.001000</td>\n",
              "    </tr>\n",
              "    <tr>\n",
              "      <th>5</th>\n",
              "      <td>0.446644</td>\n",
              "      <td>0.835516</td>\n",
              "      <td>0.575646</td>\n",
              "      <td>0.764706</td>\n",
              "      <td>0.001000</td>\n",
              "    </tr>\n",
              "    <tr>\n",
              "      <th>6</th>\n",
              "      <td>0.368277</td>\n",
              "      <td>0.869476</td>\n",
              "      <td>0.260650</td>\n",
              "      <td>0.926471</td>\n",
              "      <td>0.001000</td>\n",
              "    </tr>\n",
              "    <tr>\n",
              "      <th>7</th>\n",
              "      <td>0.294214</td>\n",
              "      <td>0.898936</td>\n",
              "      <td>0.215105</td>\n",
              "      <td>0.934641</td>\n",
              "      <td>0.001000</td>\n",
              "    </tr>\n",
              "    <tr>\n",
              "      <th>8</th>\n",
              "      <td>0.244913</td>\n",
              "      <td>0.908756</td>\n",
              "      <td>0.171734</td>\n",
              "      <td>0.949346</td>\n",
              "      <td>0.001000</td>\n",
              "    </tr>\n",
              "    <tr>\n",
              "      <th>9</th>\n",
              "      <td>0.139408</td>\n",
              "      <td>0.954992</td>\n",
              "      <td>0.131461</td>\n",
              "      <td>0.950980</td>\n",
              "      <td>0.001000</td>\n",
              "    </tr>\n",
              "    <tr>\n",
              "      <th>10</th>\n",
              "      <td>0.105565</td>\n",
              "      <td>0.965221</td>\n",
              "      <td>0.143488</td>\n",
              "      <td>0.954248</td>\n",
              "      <td>0.001000</td>\n",
              "    </tr>\n",
              "    <tr>\n",
              "      <th>11</th>\n",
              "      <td>0.169654</td>\n",
              "      <td>0.936579</td>\n",
              "      <td>0.165901</td>\n",
              "      <td>0.952614</td>\n",
              "      <td>0.001000</td>\n",
              "    </tr>\n",
              "    <tr>\n",
              "      <th>12</th>\n",
              "      <td>0.072447</td>\n",
              "      <td>0.980360</td>\n",
              "      <td>0.155187</td>\n",
              "      <td>0.973856</td>\n",
              "      <td>0.001000</td>\n",
              "    </tr>\n",
              "    <tr>\n",
              "      <th>13</th>\n",
              "      <td>0.066530</td>\n",
              "      <td>0.979542</td>\n",
              "      <td>0.115142</td>\n",
              "      <td>0.968954</td>\n",
              "      <td>0.001000</td>\n",
              "    </tr>\n",
              "    <tr>\n",
              "      <th>14</th>\n",
              "      <td>0.176731</td>\n",
              "      <td>0.938625</td>\n",
              "      <td>0.154439</td>\n",
              "      <td>0.952614</td>\n",
              "      <td>0.001000</td>\n",
              "    </tr>\n",
              "    <tr>\n",
              "      <th>15</th>\n",
              "      <td>0.077695</td>\n",
              "      <td>0.975450</td>\n",
              "      <td>0.092996</td>\n",
              "      <td>0.975490</td>\n",
              "      <td>0.001000</td>\n",
              "    </tr>\n",
              "    <tr>\n",
              "      <th>16</th>\n",
              "      <td>0.035538</td>\n",
              "      <td>0.989362</td>\n",
              "      <td>0.086485</td>\n",
              "      <td>0.978758</td>\n",
              "      <td>0.001000</td>\n",
              "    </tr>\n",
              "    <tr>\n",
              "      <th>17</th>\n",
              "      <td>0.033336</td>\n",
              "      <td>0.992226</td>\n",
              "      <td>0.132495</td>\n",
              "      <td>0.965686</td>\n",
              "      <td>0.001000</td>\n",
              "    </tr>\n",
              "    <tr>\n",
              "      <th>18</th>\n",
              "      <td>0.029349</td>\n",
              "      <td>0.992635</td>\n",
              "      <td>0.078074</td>\n",
              "      <td>0.982026</td>\n",
              "      <td>0.001000</td>\n",
              "    </tr>\n",
              "    <tr>\n",
              "      <th>19</th>\n",
              "      <td>0.036476</td>\n",
              "      <td>0.988134</td>\n",
              "      <td>0.081297</td>\n",
              "      <td>0.978758</td>\n",
              "      <td>0.001000</td>\n",
              "    </tr>\n",
              "    <tr>\n",
              "      <th>20</th>\n",
              "      <td>0.039891</td>\n",
              "      <td>0.986907</td>\n",
              "      <td>0.177789</td>\n",
              "      <td>0.946078</td>\n",
              "      <td>0.001000</td>\n",
              "    </tr>\n",
              "    <tr>\n",
              "      <th>21</th>\n",
              "      <td>0.024635</td>\n",
              "      <td>0.994272</td>\n",
              "      <td>0.088220</td>\n",
              "      <td>0.978758</td>\n",
              "      <td>0.001000</td>\n",
              "    </tr>\n",
              "    <tr>\n",
              "      <th>22</th>\n",
              "      <td>0.015253</td>\n",
              "      <td>0.995499</td>\n",
              "      <td>0.115071</td>\n",
              "      <td>0.954248</td>\n",
              "      <td>0.001000</td>\n",
              "    </tr>\n",
              "    <tr>\n",
              "      <th>23</th>\n",
              "      <td>0.110317</td>\n",
              "      <td>0.960311</td>\n",
              "      <td>0.078598</td>\n",
              "      <td>0.973856</td>\n",
              "      <td>0.001000</td>\n",
              "    </tr>\n",
              "    <tr>\n",
              "      <th>24</th>\n",
              "      <td>0.017712</td>\n",
              "      <td>0.997954</td>\n",
              "      <td>0.071125</td>\n",
              "      <td>0.980392</td>\n",
              "      <td>0.000100</td>\n",
              "    </tr>\n",
              "    <tr>\n",
              "      <th>25</th>\n",
              "      <td>0.015008</td>\n",
              "      <td>0.997954</td>\n",
              "      <td>0.069905</td>\n",
              "      <td>0.982026</td>\n",
              "      <td>0.000100</td>\n",
              "    </tr>\n",
              "    <tr>\n",
              "      <th>26</th>\n",
              "      <td>0.014080</td>\n",
              "      <td>0.998363</td>\n",
              "      <td>0.069830</td>\n",
              "      <td>0.982026</td>\n",
              "      <td>0.000100</td>\n",
              "    </tr>\n",
              "    <tr>\n",
              "      <th>27</th>\n",
              "      <td>0.013139</td>\n",
              "      <td>0.998773</td>\n",
              "      <td>0.070261</td>\n",
              "      <td>0.980392</td>\n",
              "      <td>0.000100</td>\n",
              "    </tr>\n",
              "    <tr>\n",
              "      <th>28</th>\n",
              "      <td>0.012529</td>\n",
              "      <td>0.998773</td>\n",
              "      <td>0.070334</td>\n",
              "      <td>0.982026</td>\n",
              "      <td>0.000100</td>\n",
              "    </tr>\n",
              "    <tr>\n",
              "      <th>29</th>\n",
              "      <td>0.011850</td>\n",
              "      <td>0.998773</td>\n",
              "      <td>0.070785</td>\n",
              "      <td>0.980392</td>\n",
              "      <td>0.000100</td>\n",
              "    </tr>\n",
              "    <tr>\n",
              "      <th>30</th>\n",
              "      <td>0.011407</td>\n",
              "      <td>0.997954</td>\n",
              "      <td>0.071334</td>\n",
              "      <td>0.980392</td>\n",
              "      <td>0.000100</td>\n",
              "    </tr>\n",
              "    <tr>\n",
              "      <th>31</th>\n",
              "      <td>0.010701</td>\n",
              "      <td>0.998773</td>\n",
              "      <td>0.071015</td>\n",
              "      <td>0.980392</td>\n",
              "      <td>0.000010</td>\n",
              "    </tr>\n",
              "    <tr>\n",
              "      <th>32</th>\n",
              "      <td>0.010625</td>\n",
              "      <td>0.998773</td>\n",
              "      <td>0.070753</td>\n",
              "      <td>0.980392</td>\n",
              "      <td>0.000010</td>\n",
              "    </tr>\n",
              "    <tr>\n",
              "      <th>33</th>\n",
              "      <td>0.010544</td>\n",
              "      <td>0.998773</td>\n",
              "      <td>0.070656</td>\n",
              "      <td>0.980392</td>\n",
              "      <td>0.000010</td>\n",
              "    </tr>\n",
              "    <tr>\n",
              "      <th>34</th>\n",
              "      <td>0.010498</td>\n",
              "      <td>0.998773</td>\n",
              "      <td>0.070573</td>\n",
              "      <td>0.980392</td>\n",
              "      <td>0.000010</td>\n",
              "    </tr>\n",
              "    <tr>\n",
              "      <th>35</th>\n",
              "      <td>0.010442</td>\n",
              "      <td>0.998773</td>\n",
              "      <td>0.070564</td>\n",
              "      <td>0.980392</td>\n",
              "      <td>0.000010</td>\n",
              "    </tr>\n",
              "    <tr>\n",
              "      <th>36</th>\n",
              "      <td>0.010336</td>\n",
              "      <td>0.998773</td>\n",
              "      <td>0.070551</td>\n",
              "      <td>0.980392</td>\n",
              "      <td>0.000001</td>\n",
              "    </tr>\n",
              "    <tr>\n",
              "      <th>37</th>\n",
              "      <td>0.010329</td>\n",
              "      <td>0.998773</td>\n",
              "      <td>0.070529</td>\n",
              "      <td>0.980392</td>\n",
              "      <td>0.000001</td>\n",
              "    </tr>\n",
              "    <tr>\n",
              "      <th>38</th>\n",
              "      <td>0.010325</td>\n",
              "      <td>0.998773</td>\n",
              "      <td>0.070539</td>\n",
              "      <td>0.980392</td>\n",
              "      <td>0.000001</td>\n",
              "    </tr>\n",
              "  </tbody>\n",
              "</table>\n",
              "</div>"
            ],
            "text/plain": [
              "        loss       acc  val_loss   val_acc        lr\n",
              "0   1.610014  0.204583  1.607874  0.179739  0.001000\n",
              "1   1.539356  0.283142  1.271776  0.464052  0.001000\n",
              "2   1.076908  0.553191  0.915580  0.553922  0.001000\n",
              "3   0.802899  0.662439  0.767646  0.733660  0.001000\n",
              "4   0.629008  0.759002  0.634780  0.758170  0.001000\n",
              "5   0.446644  0.835516  0.575646  0.764706  0.001000\n",
              "6   0.368277  0.869476  0.260650  0.926471  0.001000\n",
              "7   0.294214  0.898936  0.215105  0.934641  0.001000\n",
              "8   0.244913  0.908756  0.171734  0.949346  0.001000\n",
              "9   0.139408  0.954992  0.131461  0.950980  0.001000\n",
              "10  0.105565  0.965221  0.143488  0.954248  0.001000\n",
              "11  0.169654  0.936579  0.165901  0.952614  0.001000\n",
              "12  0.072447  0.980360  0.155187  0.973856  0.001000\n",
              "13  0.066530  0.979542  0.115142  0.968954  0.001000\n",
              "14  0.176731  0.938625  0.154439  0.952614  0.001000\n",
              "15  0.077695  0.975450  0.092996  0.975490  0.001000\n",
              "16  0.035538  0.989362  0.086485  0.978758  0.001000\n",
              "17  0.033336  0.992226  0.132495  0.965686  0.001000\n",
              "18  0.029349  0.992635  0.078074  0.982026  0.001000\n",
              "19  0.036476  0.988134  0.081297  0.978758  0.001000\n",
              "20  0.039891  0.986907  0.177789  0.946078  0.001000\n",
              "21  0.024635  0.994272  0.088220  0.978758  0.001000\n",
              "22  0.015253  0.995499  0.115071  0.954248  0.001000\n",
              "23  0.110317  0.960311  0.078598  0.973856  0.001000\n",
              "24  0.017712  0.997954  0.071125  0.980392  0.000100\n",
              "25  0.015008  0.997954  0.069905  0.982026  0.000100\n",
              "26  0.014080  0.998363  0.069830  0.982026  0.000100\n",
              "27  0.013139  0.998773  0.070261  0.980392  0.000100\n",
              "28  0.012529  0.998773  0.070334  0.982026  0.000100\n",
              "29  0.011850  0.998773  0.070785  0.980392  0.000100\n",
              "30  0.011407  0.997954  0.071334  0.980392  0.000100\n",
              "31  0.010701  0.998773  0.071015  0.980392  0.000010\n",
              "32  0.010625  0.998773  0.070753  0.980392  0.000010\n",
              "33  0.010544  0.998773  0.070656  0.980392  0.000010\n",
              "34  0.010498  0.998773  0.070573  0.980392  0.000010\n",
              "35  0.010442  0.998773  0.070564  0.980392  0.000010\n",
              "36  0.010336  0.998773  0.070551  0.980392  0.000001\n",
              "37  0.010329  0.998773  0.070529  0.980392  0.000001\n",
              "38  0.010325  0.998773  0.070539  0.980392  0.000001"
            ]
          },
          "metadata": {
            "tags": []
          },
          "execution_count": 57
        }
      ]
    },
    {
      "cell_type": "code",
      "metadata": {
        "trusted": false,
        "id": "RrqEsOjxAbly",
        "colab": {
          "base_uri": "https://localhost:8080/",
          "height": 286
        },
        "outputId": "0ab0c515-00a9-446d-98b7-01564beae319"
      },
      "source": [
        "ax = df_history[['acc', 'val_acc']].plot()\n",
        "ax.set_ylim(0.9, 1)"
      ],
      "execution_count": 58,
      "outputs": [
        {
          "output_type": "execute_result",
          "data": {
            "text/plain": [
              "(0.9, 1.0)"
            ]
          },
          "metadata": {
            "tags": []
          },
          "execution_count": 58
        },
        {
          "output_type": "display_data",
          "data": {
            "image/png": "[encoded data removed]",
            "text/plain": [
              "<Figure size 432x288 with 1 Axes>"
            ]
          },
          "metadata": {
            "tags": [],
            "needs_background": "light"
          }
        }
      ]
    },
    {
      "cell_type": "code",
      "metadata": {
        "trusted": false,
        "id": "wcfLCgtsAbl0",
        "colab": {
          "base_uri": "https://localhost:8080/"
        },
        "outputId": "60cac67a-fe7c-41e4-888a-474278b3e021"
      },
      "source": [
        "df_history['val_acc'].max()"
      ],
      "execution_count": 59,
      "outputs": [
        {
          "output_type": "execute_result",
          "data": {
            "text/plain": [
              "0.9820261597633362"
            ]
          },
          "metadata": {
            "tags": []
          },
          "execution_count": 59
        }
      ]
    },
    {
      "cell_type": "code",
      "metadata": {
        "trusted": false,
        "id": "phe-WH6GAbl1",
        "colab": {
          "base_uri": "https://localhost:8080/"
        },
        "outputId": "2ab64b61-f40f-4d6f-d171-2f5a1689b135"
      },
      "source": [
        "model.load_weights('best.model')"
      ],
      "execution_count": 60,
      "outputs": [
        {
          "output_type": "execute_result",
          "data": {
            "text/plain": [
              "<tensorflow.python.training.tracking.util.CheckpointLoadStatus at 0x7f996059f2d0>"
            ]
          },
          "metadata": {
            "tags": []
          },
          "execution_count": 60
        }
      ]
    },
    {
      "cell_type": "code",
      "metadata": {
        "trusted": false,
        "id": "d658vIYJAbl2",
        "colab": {
          "base_uri": "https://localhost:8080/"
        },
        "outputId": "85b52e90-e12d-4bec-8815-782fad3a1688"
      },
      "source": [
        "model.evaluate(X_valid, y_valid)"
      ],
      "execution_count": 61,
      "outputs": [
        {
          "output_type": "stream",
          "text": [
            "20/20 [==============================] - 1s 30ms/step - loss: 0.0698 - acc: 0.9820\n"
          ],
          "name": "stdout"
        },
        {
          "output_type": "execute_result",
          "data": {
            "text/plain": [
              "[0.06982970982789993, 0.9820261597633362]"
            ]
          },
          "metadata": {
            "tags": []
          },
          "execution_count": 61
        }
      ]
    },
    {
      "cell_type": "markdown",
      "metadata": {
        "id": "Dg6x_LbdAbl3"
      },
      "source": [
        "# Evaluate results"
      ]
    },
    {
      "cell_type": "code",
      "metadata": {
        "trusted": false,
        "id": "xcmZkE_VAbl4"
      },
      "source": [
        "y_pred = model.predict(X_valid)"
      ],
      "execution_count": 62,
      "outputs": []
    },
    {
      "cell_type": "code",
      "metadata": {
        "trusted": false,
        "id": "on_Q0XXKAbl4"
      },
      "source": [
        "y_pred_cls = y_pred.argmax(1)"
      ],
      "execution_count": 63,
      "outputs": []
    },
    {
      "cell_type": "code",
      "metadata": {
        "trusted": false,
        "id": "05uuN6R3Abl5",
        "colab": {
          "base_uri": "https://localhost:8080/"
        },
        "outputId": "178f3fcb-3f6e-4a03-9e88-e5ddc0e023ce"
      },
      "source": [
        "errors = np.where(y_pred_cls != y_valid)[0]\n",
        "errors"
      ],
      "execution_count": 64,
      "outputs": [
        {
          "output_type": "execute_result",
          "data": {
            "text/plain": [
              "array([ 16, 100, 110, 133, 198, 237, 266, 268, 365, 451, 515])"
            ]
          },
          "metadata": {
            "tags": []
          },
          "execution_count": 64
        }
      ]
    },
    {
      "cell_type": "code",
      "metadata": {
        "id": "opN_W6yEoqjX"
      },
      "source": [
        ""
      ],
      "execution_count": 64,
      "outputs": []
    },
    {
      "cell_type": "code",
      "metadata": {
        "trusted": false,
        "id": "Cv75q2GeAbl6",
        "colab": {
          "base_uri": "https://localhost:8080/",
          "height": 482
        },
        "outputId": "ec04f51e-dc1e-4f4a-c05f-03e247e25628"
      },
      "source": [
        "i = 289\n",
        "plt.figure(figsize=(10, 10))\n",
        "im = Image.open(fname_valid[i])\n",
        "plt.imshow(np.uint8(im), interpolation='bilinear')\n",
        "plt.title('Class: {}, Predicted: {}'.format(ids_coins[y_valid[i]], ids_coins[np.argmax(y_pred[i])]));"
      ],
      "execution_count": 65,
      "outputs": [
        {
          "output_type": "display_data",
          "data": {
            "image/png": "[encoded data removed]",
            "text/plain": [
              "<Figure size 720x720 with 1 Axes>"
            ]
          },
          "metadata": {
            "tags": [],
            "needs_background": "light"
          }
        }
      ]
    },
    {
      "cell_type": "code",
      "metadata": {
        "trusted": false,
        "id": "hQ8n_AEOAbl7"
      },
      "source": [
        ""
      ],
      "execution_count": null,
      "outputs": []
    }
  ]
}